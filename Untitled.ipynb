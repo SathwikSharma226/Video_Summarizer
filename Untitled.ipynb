{
 "cells": [
  {
   "cell_type": "code",
   "execution_count": 2,
   "id": "14ebf79c-ac53-4bfd-84a4-e4bb97d48ac3",
   "metadata": {},
   "outputs": [
    {
     "name": "stdout",
     "output_type": "stream",
     "text": [
      "Requirement already satisfied: pandas in c:\\users\\maruthi\\anaconda3\\lib\\site-packages (from -r requirement.txt (line 1)) (2.0.3)\n",
      "Requirement already satisfied: numpy in c:\\users\\maruthi\\anaconda3\\lib\\site-packages (from -r requirement.txt (line 2)) (1.24.4)\n",
      "Collecting pyodbc==5.1.0\n",
      "  Downloading pyodbc-5.1.0-cp38-cp38-win_amd64.whl (68 kB)\n",
      "Collecting Pillow==10.4.0\n",
      "  Downloading pillow-10.4.0-cp38-cp38-win_amd64.whl (2.6 MB)\n",
      "Requirement already satisfied: faiss-cpu in c:\\users\\maruthi\\anaconda3\\lib\\site-packages (from -r requirement.txt (line 5)) (1.8.0.post1)\n",
      "Collecting plotly==5.22.0\n",
      "  Downloading plotly-5.22.0-py3-none-any.whl (16.4 MB)\n",
      "Collecting seaborn==0.13.2\n",
      "  Downloading seaborn-0.13.2-py3-none-any.whl (294 kB)\n",
      "Collecting altair==4.2.2\n",
      "  Downloading altair-4.2.2-py3-none-any.whl (813 kB)\n",
      "Collecting streamlit==1.34.0\n",
      "  Downloading streamlit-1.34.0-py2.py3-none-any.whl (8.5 MB)\n",
      "Collecting openai==1.30.1\n",
      "  Downloading openai-1.30.1-py3-none-any.whl (320 kB)\n",
      "Collecting langchain==0.2.0\n",
      "  Downloading langchain-0.2.0-py3-none-any.whl (973 kB)\n",
      "Collecting langchain-core==0.2.12\n",
      "  Downloading langchain_core-0.2.12-py3-none-any.whl (355 kB)\n",
      "Collecting langchain-anthropic\n",
      "  Downloading langchain_anthropic-0.1.23-py3-none-any.whl (21 kB)\n",
      "Collecting langchain-community\n",
      "  Downloading langchain_community-0.2.19-py3-none-any.whl (2.3 MB)\n",
      "Collecting langchain-experimental\n",
      "  Downloading langchain_experimental-0.0.65-py3-none-any.whl (207 kB)\n",
      "Requirement already satisfied: langchain-openai in c:\\users\\maruthi\\anaconda3\\lib\\site-packages (from -r requirement.txt (line 16)) (0.1.25)\n",
      "Requirement already satisfied: langchain-text-splitters in c:\\users\\maruthi\\anaconda3\\lib\\site-packages (from -r requirement.txt (line 17)) (0.2.4)\n",
      "Collecting langchainhub\n",
      "  Downloading langchainhub-0.1.21-py3-none-any.whl (5.2 kB)\n",
      "Note: you may need to restart the kernel to use updated packages.\n"
     ]
    },
    {
     "name": "stderr",
     "output_type": "stream",
     "text": [
      "ERROR: Could not find a version that satisfies the requirement PyMuPDF==1.24.14\n",
      "ERROR: No matching distribution found for PyMuPDF==1.24.14\n"
     ]
    }
   ],
   "source": [
    "pip install -r requirement.txt"
   ]
  },
  {
   "cell_type": "code",
   "execution_count": 2,
   "id": "821e9652-cc97-4b8a-b3c9-0638acf432b7",
   "metadata": {},
   "outputs": [
    {
     "name": "stdout",
     "output_type": "stream",
     "text": [
      "Collecting langchain_community\n",
      "  Using cached langchain_community-0.2.19-py3-none-any.whl (2.3 MB)\n",
      "Requirement already satisfied: numpy<2,>=1 in c:\\users\\maruthi\\anaconda3\\lib\\site-packages (from langchain_community) (1.24.4)\n",
      "Requirement already satisfied: requests<3,>=2 in c:\\users\\maruthi\\anaconda3\\lib\\site-packages (from langchain_community) (2.32.3)\n",
      "Requirement already satisfied: SQLAlchemy<3,>=1.4 in c:\\users\\maruthi\\anaconda3\\lib\\site-packages (from langchain_community) (1.4.7)\n",
      "Requirement already satisfied: PyYAML>=5.3 in c:\\users\\maruthi\\anaconda3\\lib\\site-packages (from langchain_community) (5.4.1)\n",
      "Collecting dataclasses-json<0.7,>=0.5.7\n",
      "  Downloading dataclasses_json-0.6.7-py3-none-any.whl (28 kB)\n",
      "Requirement already satisfied: aiohttp<4.0.0,>=3.8.3 in c:\\users\\maruthi\\anaconda3\\lib\\site-packages (from langchain_community) (3.10.11)\n",
      "Requirement already satisfied: tenacity!=8.4.0,<9.0.0,>=8.1.0 in c:\\users\\maruthi\\anaconda3\\lib\\site-packages (from langchain_community) (8.5.0)\n",
      "Requirement already satisfied: langsmith<0.2.0,>=0.1.112 in c:\\users\\maruthi\\anaconda3\\lib\\site-packages (from langchain_community) (0.1.147)\n",
      "Requirement already satisfied: langchain-core<0.3.0,>=0.2.43 in c:\\users\\maruthi\\anaconda3\\lib\\site-packages (from langchain_community) (0.2.43)\n",
      "Requirement already satisfied: langchain<0.3.0,>=0.2.17 in c:\\users\\maruthi\\anaconda3\\lib\\site-packages (from langchain_community) (0.2.17)\n",
      "Requirement already satisfied: attrs>=17.3.0 in c:\\users\\maruthi\\anaconda3\\lib\\site-packages (from aiohttp<4.0.0,>=3.8.3->langchain_community) (20.3.0)\n",
      "Requirement already satisfied: aiohappyeyeballs>=2.3.0 in c:\\users\\maruthi\\anaconda3\\lib\\site-packages (from aiohttp<4.0.0,>=3.8.3->langchain_community) (2.4.4)\n",
      "Requirement already satisfied: aiosignal>=1.1.2 in c:\\users\\maruthi\\anaconda3\\lib\\site-packages (from aiohttp<4.0.0,>=3.8.3->langchain_community) (1.3.1)\n",
      "Requirement already satisfied: multidict<7.0,>=4.5 in c:\\users\\maruthi\\anaconda3\\lib\\site-packages (from aiohttp<4.0.0,>=3.8.3->langchain_community) (6.1.0)\n",
      "Requirement already satisfied: async-timeout<6.0,>=4.0 in c:\\users\\maruthi\\anaconda3\\lib\\site-packages (from aiohttp<4.0.0,>=3.8.3->langchain_community) (4.0.3)\n",
      "Requirement already satisfied: yarl<2.0,>=1.12.0 in c:\\users\\maruthi\\anaconda3\\lib\\site-packages (from aiohttp<4.0.0,>=3.8.3->langchain_community) (1.15.2)\n",
      "Requirement already satisfied: frozenlist>=1.1.1 in c:\\users\\maruthi\\anaconda3\\lib\\site-packages (from aiohttp<4.0.0,>=3.8.3->langchain_community) (1.5.0)\n",
      "Collecting typing-inspect<1,>=0.4.0\n",
      "  Downloading typing_inspect-0.9.0-py3-none-any.whl (8.8 kB)\n",
      "Collecting marshmallow<4.0.0,>=3.18.0\n",
      "  Downloading marshmallow-3.22.0-py3-none-any.whl (49 kB)\n",
      "Requirement already satisfied: pydantic<3,>=1 in c:\\users\\maruthi\\anaconda3\\lib\\site-packages (from langchain<0.3.0,>=0.2.17->langchain_community) (2.10.3)\n",
      "Requirement already satisfied: langchain-text-splitters<0.3.0,>=0.2.0 in c:\\users\\maruthi\\anaconda3\\lib\\site-packages (from langchain<0.3.0,>=0.2.17->langchain_community) (0.2.4)\n",
      "Requirement already satisfied: jsonpatch<2.0,>=1.33 in c:\\users\\maruthi\\anaconda3\\lib\\site-packages (from langchain-core<0.3.0,>=0.2.43->langchain_community) (1.33)\n",
      "Requirement already satisfied: packaging<25,>=23.2 in c:\\users\\maruthi\\anaconda3\\lib\\site-packages (from langchain-core<0.3.0,>=0.2.43->langchain_community) (24.2)\n",
      "Requirement already satisfied: typing-extensions>=4.7 in c:\\users\\maruthi\\anaconda3\\lib\\site-packages (from langchain-core<0.3.0,>=0.2.43->langchain_community) (4.12.2)\n",
      "Requirement already satisfied: jsonpointer>=1.9 in c:\\users\\maruthi\\anaconda3\\lib\\site-packages (from jsonpatch<2.0,>=1.33->langchain-core<0.3.0,>=0.2.43->langchain_community) (3.0.0)\n",
      "Requirement already satisfied: orjson<4.0.0,>=3.9.14 in c:\\users\\maruthi\\anaconda3\\lib\\site-packages (from langsmith<0.2.0,>=0.1.112->langchain_community) (3.10.12)\n",
      "Requirement already satisfied: requests-toolbelt<2.0.0,>=1.0.0 in c:\\users\\maruthi\\anaconda3\\lib\\site-packages (from langsmith<0.2.0,>=0.1.112->langchain_community) (1.0.0)\n",
      "Requirement already satisfied: httpx<1,>=0.23.0 in c:\\users\\maruthi\\anaconda3\\lib\\site-packages (from langsmith<0.2.0,>=0.1.112->langchain_community) (0.28.1)\n",
      "Requirement already satisfied: certifi in c:\\users\\maruthi\\anaconda3\\lib\\site-packages (from httpx<1,>=0.23.0->langsmith<0.2.0,>=0.1.112->langchain_community) (2020.12.5)\n",
      "Requirement already satisfied: httpcore==1.* in c:\\users\\maruthi\\anaconda3\\lib\\site-packages (from httpx<1,>=0.23.0->langsmith<0.2.0,>=0.1.112->langchain_community) (1.0.7)\n",
      "Requirement already satisfied: idna in c:\\users\\maruthi\\anaconda3\\lib\\site-packages (from httpx<1,>=0.23.0->langsmith<0.2.0,>=0.1.112->langchain_community) (2.10)\n",
      "Requirement already satisfied: anyio in c:\\users\\maruthi\\anaconda3\\lib\\site-packages (from httpx<1,>=0.23.0->langsmith<0.2.0,>=0.1.112->langchain_community) (4.5.2)\n",
      "Requirement already satisfied: h11<0.15,>=0.13 in c:\\users\\maruthi\\anaconda3\\lib\\site-packages (from httpcore==1.*->httpx<1,>=0.23.0->langsmith<0.2.0,>=0.1.112->langchain_community) (0.14.0)\n",
      "Requirement already satisfied: annotated-types>=0.6.0 in c:\\users\\maruthi\\anaconda3\\lib\\site-packages (from pydantic<3,>=1->langchain<0.3.0,>=0.2.17->langchain_community) (0.7.0)\n",
      "Requirement already satisfied: pydantic-core==2.27.1 in c:\\users\\maruthi\\anaconda3\\lib\\site-packages (from pydantic<3,>=1->langchain<0.3.0,>=0.2.17->langchain_community) (2.27.1)\n",
      "Requirement already satisfied: charset-normalizer<4,>=2 in c:\\users\\maruthi\\anaconda3\\lib\\site-packages (from requests<3,>=2->langchain_community) (3.4.0)\n",
      "Requirement already satisfied: urllib3<3,>=1.21.1 in c:\\users\\maruthi\\anaconda3\\lib\\site-packages (from requests<3,>=2->langchain_community) (1.26.4)\n",
      "Requirement already satisfied: greenlet!=0.4.17 in c:\\users\\maruthi\\anaconda3\\lib\\site-packages (from SQLAlchemy<3,>=1.4->langchain_community) (1.0.0)\n",
      "Requirement already satisfied: mypy-extensions>=0.3.0 in c:\\users\\maruthi\\anaconda3\\lib\\site-packages (from typing-inspect<1,>=0.4.0->dataclasses-json<0.7,>=0.5.7->langchain_community) (0.4.3)\n",
      "Requirement already satisfied: propcache>=0.2.0 in c:\\users\\maruthi\\anaconda3\\lib\\site-packages (from yarl<2.0,>=1.12.0->aiohttp<4.0.0,>=3.8.3->langchain_community) (0.2.0)\n",
      "Requirement already satisfied: sniffio>=1.1 in c:\\users\\maruthi\\anaconda3\\lib\\site-packages (from anyio->httpx<1,>=0.23.0->langsmith<0.2.0,>=0.1.112->langchain_community) (1.2.0)\n",
      "Requirement already satisfied: exceptiongroup>=1.0.2 in c:\\users\\maruthi\\anaconda3\\lib\\site-packages (from anyio->httpx<1,>=0.23.0->langsmith<0.2.0,>=0.1.112->langchain_community) (1.2.2)\n",
      "Installing collected packages: typing-inspect, marshmallow, dataclasses-json, langchain-community\n",
      "Successfully installed dataclasses-json-0.6.7 langchain-community-0.2.19 marshmallow-3.22.0 typing-inspect-0.9.0\n",
      "Note: you may need to restart the kernel to use updated packages.\n"
     ]
    }
   ],
   "source": [
    "pip install langchain_community"
   ]
  },
  {
   "cell_type": "code",
   "execution_count": 1,
   "id": "b7da8231",
   "metadata": {},
   "outputs": [
    {
     "name": "stdout",
     "output_type": "stream",
     "text": [
      "Collecting youtube-transcript-api\n",
      "  Downloading youtube_transcript_api-0.6.3-py3-none-any.whl (622 kB)\n",
      "Requirement already satisfied: defusedxml<0.8.0,>=0.7.1 in c:\\users\\maruthi\\anaconda3\\lib\\site-packages (from youtube-transcript-api) (0.7.1)\n",
      "Requirement already satisfied: requests in c:\\users\\maruthi\\anaconda3\\lib\\site-packages (from youtube-transcript-api) (2.32.3)\n",
      "Requirement already satisfied: charset-normalizer<4,>=2 in c:\\users\\maruthi\\anaconda3\\lib\\site-packages (from requests->youtube-transcript-api) (3.4.0)\n",
      "Requirement already satisfied: urllib3<3,>=1.21.1 in c:\\users\\maruthi\\anaconda3\\lib\\site-packages (from requests->youtube-transcript-api) (1.26.4)\n",
      "Requirement already satisfied: certifi>=2017.4.17 in c:\\users\\maruthi\\anaconda3\\lib\\site-packages (from requests->youtube-transcript-api) (2020.12.5)\n",
      "Requirement already satisfied: idna<4,>=2.5 in c:\\users\\maruthi\\anaconda3\\lib\\site-packages (from requests->youtube-transcript-api) (2.10)\n",
      "Installing collected packages: youtube-transcript-api\n",
      "Successfully installed youtube-transcript-api-0.6.3\n",
      "Note: you may need to restart the kernel to use updated packages.\n"
     ]
    }
   ],
   "source": [
    "pip install youtube-transcript-api"
   ]
  },
  {
   "cell_type": "code",
   "execution_count": null,
   "id": "196519b1",
   "metadata": {},
   "outputs": [],
   "source": []
  }
 ],
 "metadata": {
  "kernelspec": {
   "display_name": "Python 3",
   "language": "python",
   "name": "python3"
  },
  "language_info": {
   "codemirror_mode": {
    "name": "ipython",
    "version": 3
   },
   "file_extension": ".py",
   "mimetype": "text/x-python",
   "name": "python",
   "nbconvert_exporter": "python",
   "pygments_lexer": "ipython3",
   "version": "3.8.8"
  }
 },
 "nbformat": 4,
 "nbformat_minor": 5
}
